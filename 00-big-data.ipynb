{
 "cells": [
  {
   "cell_type": "markdown",
   "id": "493cfcf6",
   "metadata": {
    "tags": [
     "remove_cell"
    ]
   },
   "source": [
    "<div><img style=\"float: left; padding-right: 3em;\" src=\"https://avatars.githubusercontent.com/u/19476722\" width=\"150\" /><div/>\n",
    "\n",
    "# Earth Data Science Coding Challenge!\n",
    "Before we get started, make sure to read or review the guidelines below. These will help make sure that your code is **readable** and **reproducible**. "
   ]
  },
  {
   "cell_type": "markdown",
   "id": "960871ed",
   "metadata": {
    "tags": [
     "remove_cell"
    ]
   },
   "source": [
    "## Don't get **caught** by these Jupyter notebook gotchas\n",
    "\n",
    "<img src=\"https://miro.medium.com/v2/resize:fit:4800/format:webp/1*o0HleR7BSe8W-pTnmucqHA.jpeg\" width=300 style=\"padding: 1em; border-style: solid; border-color: grey;\" />\n",
    "\n",
    "  > *Image source: https://alaskausfws.medium.com/whats-big-and-brown-and-loves-salmon-e1803579ee36*\n",
    "\n",
    "These are the most common issues that will keep you from getting started and delay your code review:\n",
    "\n",
    "1. When you try to run some code on GitHub Codespaces, you may be prompted to select a **kernel**.\n",
    "   * The **kernel** refers to the version of Python you are using\n",
    "   * You should use the **base** kernel, which should be the default option. \n",
    "   * You can also use the `Select Kernel` menu in the upper right to select the **base** kernel\n",
    "2. Before you commit your work, make sure it runs **reproducibly** by clicking:\n",
    "   1. `Restart` (this button won't appear until you've run some code), then\n",
    "   2. `Run All`\n",
    "\n",
    "## Check your code to make sure it's clean and easy to read\n",
    "\n",
    "<img src=\"https://encrypted-tbn0.gstatic.com/images?q=tbn:ANd9GcSO1w9WrbwbuMLN14IezH-iq2HEGwO3JDvmo5Y_hQIy7k-Xo2gZH-mP2GUIG6RFWL04X1k&usqp=CAU\" height=200 />\n",
    "\n",
    "* Format all cells prior to submitting (right click on your code).\n",
    "* Use expressive names for variables so you or the reader knows what they are. \n",
    "* Use comments to explain your code -- e.g. \n",
    "  ```python\n",
    "  # This is a comment, it starts with a hash sign\n",
    "  ```\n",
    "\n",
    "## Label and describe your plots\n",
    "\n",
    "![Source: https://xkcd.com/833](https://imgs.xkcd.com/comics/convincing.png)\n",
    "\n",
    "Make sure each plot has:\n",
    "  * A title that explains where and when the data are from\n",
    "  * x- and y- axis labels with **units** where appropriate\n",
    "  * A legend where appropriate\n",
    "\n",
    "\n",
    "## Icons: how to use this notebook\n",
    "We use the following icons to let you know when you need to change something to complete the challenge:\n",
    "  * &#128187; means you need to write or edit some code.\n",
    "  \n",
    "  * &#128214;  indicates recommended reading\n",
    "  \n",
    "  * &#9998; marks written responses to questions\n",
    "  \n",
    "  * &#127798; is an optional extra challenge\n",
    "  "
   ]
  },
  {
   "cell_type": "markdown",
   "id": "36811936",
   "metadata": {},
   "source": [
    "---"
   ]
  },
  {
   "cell_type": "markdown",
   "id": "86ce818e-0692-4554-aeb5-920b233a5f9d",
   "metadata": {
    "deletable": false,
    "editable": false,
    "nbgrader": {
     "cell_type": "markdown",
     "checksum": "2acf1c15813630e33c627727645c9bba",
     "grade": false,
     "grade_id": "overview",
     "locked": true,
     "schema_version": 3,
     "solution": false,
     "task": false
    },
    "tags": []
   },
   "source": [
    "# Chicago Urban Greenspace\n",
    "\n",
    "In this notebook, you will write code to calculate statistics about urban greenspace in Chicago. You will then use a linear model to identify statistically significant correlations between the distribution of greenspace and socioeconomic data collected by the U.S. Census. For your analysis, you will be roughly following the methodology of [this paper about Portland, OR green space](https://doi.org/10.3390/f7080162).\n",
    "\n",
    "![](https://s3.amazonaws.com/medill.wordpress.offload/WP%20Media%20Folder%20-%20medill-reports-chicago/wp-content/uploads/sites/3/2019/03/lincoln-parkflickr-sized.jpg)\n",
    "\n",
    "> Image source: [Medill News](https://news.medill.northwestern.edu/chicago/friends-of-the-parks-alleges-chicago-green-spaces-still-map-racial-inequality/)\n",
    "\n",
    "### Working with larger-than-memory (big) data\n",
    "\n",
    "The National Agricultural Imagery Program (NAIP) data for the City of Chicago takes up about 20GB. This amount of data is likely to crash your kernel if you try to load it all in at once. It also would be inconvenient to store on your harddrive so that you can load it in a bit at a time for analysis. Even if your are using a computer that would be able to handle this amount of data, imagine if you were analysing the entire United States over multiple years!\n",
    "\n",
    "To help with this problem, you will use cloud-based tools to calculate your statistics instead of downloading rasters to your computer or container. You can perform basic calculations such as clipping and computing summary statistics entirely in the cloud, provided you give `rioxarray` the right kind of URL.\n",
    "\n",
    "### Check your work with testing!\n",
    "\n",
    "This notebook does not have pre-built tests. You will need to write your own test code to make sure everything is working the way that you want. For many operations, this will be as simple as creating a plot to check that all your data lines up spatially the way you were expecting, or printing values as you go."
   ]
  },
  {
   "cell_type": "markdown",
   "id": "8d6ad8e8-4838-4c08-93af-ccce7e74a88b",
   "metadata": {
    "deletable": false,
    "editable": false,
    "nbgrader": {
     "cell_type": "markdown",
     "checksum": "7e4de4a6e6aed042205f56d938e2b089",
     "grade": false,
     "grade_id": "step-1",
     "locked": true,
     "schema_version": 3,
     "solution": false,
     "task": false
    },
    "tags": []
   },
   "source": [
    "## STEP 1: Set up your analysis"
   ]
  },
  {
   "cell_type": "markdown",
   "id": "abc53260-f58b-47b4-a39e-9d0d70564675",
   "metadata": {
    "deletable": false,
    "editable": false,
    "nbgrader": {
     "cell_type": "markdown",
     "checksum": "a933e2de5d9e91397fced5b99d73c087",
     "grade": false,
     "grade_id": "imports-task",
     "locked": true,
     "points": 2,
     "schema_version": 3,
     "solution": false,
     "task": true
    },
    "tags": []
   },
   "source": [
    "For this analysis, you will need a few packages that may not be in your environment:\n",
    "\n",
    "  * pystac-client will help you search for cloud data in a STAC (SpatioTemporal Access Catalogs)\n",
    "  * `census` and `us` will help you access U.S. Census data\n",
    "  \n",
    "**YOUR TASK:**\n",
    "\n",
    "1. Install required packages using the command (`-y` tells conda to automatically continue with the install instead of asking for permission):\n",
    "   ```bash\n",
    "   conda install -y -c conda-forge pystac-client census us\n",
    "   ```\n",
    "2. Import necessary packages\n",
    "3. Create **reproducible file paths** for your project file structure.\n",
    "\n",
    "**Please store your data files somewhere in `~/earthpy-analytics/data`. This helps me keep my data files organized when I am grading, and helps you avoid large data files in your GitHub repository.**"
   ]
  },
  {
   "cell_type": "code",
   "execution_count": null,
   "id": "3a6d1acd-0560-4a4c-8e1f-08c6c733f5eb",
   "metadata": {
    "deletable": false,
    "nbgrader": {
     "cell_type": "code",
     "checksum": "d2dc34730b8f60cf4eb0312f69138d3c",
     "grade": false,
     "grade_id": "imports-ans",
     "locked": false,
     "schema_version": 3,
     "solution": true,
     "task": false
    },
    "tags": []
   },
   "outputs": [],
   "source": [
    "# YOUR CODE HERE\n",
    "raise NotImplementedError()"
   ]
  },
  {
   "cell_type": "markdown",
   "id": "86aa6dd0-4efd-4e97-a342-dd08e38ad4b7",
   "metadata": {
    "deletable": false,
    "editable": false,
    "nbgrader": {
     "cell_type": "markdown",
     "checksum": "03942a1f77b120d3fabb5ba62a1e0a4d",
     "grade": false,
     "grade_id": "step-2",
     "locked": true,
     "schema_version": 3,
     "solution": false,
     "task": false
    },
    "tags": []
   },
   "source": [
    "## STEP 2 - Download/Access Urban Greenspaces and Census Data"
   ]
  },
  {
   "cell_type": "markdown",
   "id": "ab571d63-d20c-456e-885f-e7d3ede0deb7",
   "metadata": {
    "deletable": false,
    "editable": false,
    "nbgrader": {
     "cell_type": "markdown",
     "checksum": "474974107ac5e9b9594451476edf7bb2",
     "grade": false,
     "grade_id": "chicago-task",
     "locked": true,
     "points": 3,
     "schema_version": 3,
     "solution": false,
     "task": true
    },
    "tags": []
   },
   "source": [
    "### Download City of Chicago Boundary\n",
    "\n",
    "You can find the City of Chicago Boundary on the [City of Chicago Data Portal](https://data.cityofchicago.org/). \n",
    "\n",
    "> **Make sure to download in `Original` format**, as the `Shapefile` format has not been working lately.\n",
    "\n",
    "**YOUR TASK:**\n",
    "\n",
    "  1. Download the City of Chicago Boundary\n",
    "  2. Use a **conditional statement** to cache the boundary at a **reproducible file path**"
   ]
  },
  {
   "cell_type": "code",
   "execution_count": null,
   "id": "93ba244e-6621-4c06-86f9-2023b5cd4474",
   "metadata": {
    "deletable": false,
    "nbgrader": {
     "cell_type": "code",
     "checksum": "f351e3dccbfe7948da3c162d55613850",
     "grade": false,
     "grade_id": "chicago-ans",
     "locked": false,
     "schema_version": 3,
     "solution": true,
     "task": false
    },
    "tags": []
   },
   "outputs": [],
   "source": [
    "# YOUR CODE HERE\n",
    "raise NotImplementedError()"
   ]
  },
  {
   "cell_type": "markdown",
   "id": "905336db-beab-4c74-904b-c569206d004e",
   "metadata": {
    "deletable": false,
    "nbgrader": {
     "cell_type": "markdown",
     "checksum": "0210c86b678e9e41681469a7c3fa5314",
     "grade": true,
     "grade_id": "chicago-cite",
     "locked": false,
     "points": 2,
     "schema_version": 3,
     "solution": true,
     "task": false
    },
    "tags": []
   },
   "source": [
    "YOUR ANSWER HERE"
   ]
  },
  {
   "cell_type": "markdown",
   "id": "812a00b0-4118-4f89-940f-02982ab01c85",
   "metadata": {
    "deletable": false,
    "editable": false,
    "nbgrader": {
     "cell_type": "markdown",
     "checksum": "047b47785183985f5211f42e3b13f75f",
     "grade": false,
     "grade_id": "tracts-task",
     "locked": true,
     "points": 3,
     "schema_version": 3,
     "solution": false,
     "task": true
    },
    "tags": []
   },
   "source": [
    "### Download census tracts and select those that intersect the study boundary\n",
    "\n",
    "You can obtain urls for the U.S. Census Tract shapefiles from [the TIGER service](https://www.census.gov/geographies/mapping-files/time-series/geo/tiger-line-file.html). You'll notice that these URLs use the state FIPS, which you can get from the `us` package using the command `us.states.ABBR.fips` (e.g. for the state of Colorado it would be `us.states.CO.fips`.\n",
    "\n",
    "**YOUR TASK:**\n",
    "\n",
    "1. Download the Census tract Shapefile for the state of Illinois (IL)\n",
    "2. Use a **conditional statement** to cache the download\n",
    "3. Use a **spatial join** to select only the Census tracts that lie at least partially within the City of Chicago boundary"
   ]
  },
  {
   "cell_type": "code",
   "execution_count": null,
   "id": "1ecfca52-3143-4a32-96a4-98a3e482aa8a",
   "metadata": {
    "deletable": false,
    "nbgrader": {
     "cell_type": "code",
     "checksum": "8ca94b0235362d3433a1c19249971992",
     "grade": false,
     "grade_id": "tracts-ans",
     "locked": false,
     "schema_version": 3,
     "solution": true,
     "task": false
    },
    "tags": []
   },
   "outputs": [],
   "source": [
    "# YOUR CODE HERE\n",
    "raise NotImplementedError()"
   ]
  },
  {
   "cell_type": "markdown",
   "id": "ebd9e5d0-6186-480d-a935-3eb41631fd9a",
   "metadata": {
    "deletable": false,
    "nbgrader": {
     "cell_type": "markdown",
     "checksum": "97dd1c85510ebfc8397085b7d501b95f",
     "grade": true,
     "grade_id": "tracts-cite",
     "locked": false,
     "points": 2,
     "schema_version": 3,
     "solution": true,
     "task": false
    },
    "tags": []
   },
   "source": [
    "YOUR ANSWER HERE"
   ]
  },
  {
   "cell_type": "markdown",
   "id": "aa59858d-0755-4e9a-a6db-4614324bb09f",
   "metadata": {
    "deletable": false,
    "editable": false,
    "nbgrader": {
     "cell_type": "markdown",
     "checksum": "aa029b4637f7bf3fd1ee6ae3ee03134f",
     "grade": false,
     "grade_id": "lake-task",
     "locked": true,
     "points": 3,
     "schema_version": 3,
     "solution": false,
     "task": true
    },
    "tags": []
   },
   "source": [
    "### Download Lake Michigan boundary and clip census tracts\n",
    "\n",
    "If you plot the Census tract data you just downloaded, you will notice that the census tracts along the coast of Lake Michigan extend into the lake. This will throw off your analysis if you leave it there. There are a few ways to deal with this type of problem, but for now you can use a boundary for Lake Michigan to clip the Census tracts. You can find a shapefile for Lake Michigan from the [State of Michigan MapServer](https://gis-michigan.opendata.arcgis.com/datasets/lake-michigan-shoreline/explore?location=43.785916%2C-90.269240%2C7.00)\n",
    "\n",
    "**YOUR TASK:**\n",
    "\n",
    "  1. Download the Lake Michigan boundary file\n",
    "  2. Use a **conditional statement** to cache the download\n",
    "  3. Use the `.overlay` method of GeoDataFrames to clip off any parts of your Census tract boundaries that are in Lake Michigan"
   ]
  },
  {
   "cell_type": "code",
   "execution_count": null,
   "id": "42f67e84-022a-4fe3-a20f-e37b74bfef76",
   "metadata": {
    "deletable": false,
    "nbgrader": {
     "cell_type": "code",
     "checksum": "89825a7fffde5a63c3af9351fb3b6949",
     "grade": false,
     "grade_id": "lake-ans",
     "locked": false,
     "schema_version": 3,
     "solution": true,
     "task": false
    },
    "tags": []
   },
   "outputs": [],
   "source": [
    "# YOUR CODE HERE\n",
    "raise NotImplementedError()"
   ]
  },
  {
   "cell_type": "markdown",
   "id": "75fd41b6-7be1-4a66-8909-72a5a6f634aa",
   "metadata": {
    "deletable": false,
    "nbgrader": {
     "cell_type": "markdown",
     "checksum": "79e6df3f4a46028c71b9c90ff478b7d8",
     "grade": true,
     "grade_id": "lake-cite",
     "locked": false,
     "points": 2,
     "schema_version": 3,
     "solution": true,
     "task": false
    },
    "tags": []
   },
   "source": [
    "YOUR ANSWER HERE"
   ]
  },
  {
   "cell_type": "markdown",
   "id": "d6999edc-32ba-4e16-96a4-87f85e669cff",
   "metadata": {
    "deletable": false,
    "editable": false,
    "nbgrader": {
     "cell_type": "markdown",
     "checksum": "ff3dabd5f12ec7d05c5726967352ed04",
     "grade": false,
     "grade_id": "census-task",
     "locked": true,
     "points": 8,
     "schema_version": 3,
     "solution": false,
     "task": true
    },
    "tags": []
   },
   "source": [
    "### Access census data and join with the Census tract geometry\n",
    "\n",
    "The U.S. Census Bureau collects a number of socioeconomic variables that might be correlated with Urban Greenspace. For this assignment, start with the Median Income. You can find some useful sample code in the [PyGIS textbook page on accessing Census data](https://pygis.io/docs/d_access_census.html)\n",
    "\n",
    "**YOUR TASK:**\n",
    "\n",
    "  1. Sign up for a U.S. Census Bureau API Key at their [Request a Key website](https://api.census.gov/data/key_signup.html). You can list the University of Colorado as your organization.\n",
    "  2. Locate the Median Income in the [list of Census variables](https://api.census.gov/data/2019/acs/acs5/variables.html)\n",
    "  3. Download the 2021 Median Income for each Census Tract, making sure to **cache your download**\n",
    "  \n",
    "> NOTE: The Census API will only let you download 50 tracts at once. Can you figure out how to use a loop to ask for 50 tracts at a time?"
   ]
  },
  {
   "cell_type": "code",
   "execution_count": null,
   "id": "6cb53588-9cd2-4710-a80e-3a8198535840",
   "metadata": {
    "deletable": false,
    "nbgrader": {
     "cell_type": "code",
     "checksum": "9505e2598968c0493f6dff974fa25204",
     "grade": false,
     "grade_id": "census-ans",
     "locked": false,
     "schema_version": 3,
     "solution": true,
     "task": false
    },
    "tags": []
   },
   "outputs": [],
   "source": [
    "# YOUR CODE HERE\n",
    "raise NotImplementedError()"
   ]
  },
  {
   "cell_type": "markdown",
   "id": "90313008-0ad7-4a44-a694-5688e576ce7f",
   "metadata": {
    "deletable": false,
    "nbgrader": {
     "cell_type": "markdown",
     "checksum": "855b8fe5681ec560fe950f7a29939862",
     "grade": true,
     "grade_id": "census-cite",
     "locked": false,
     "points": 2,
     "schema_version": 3,
     "solution": true,
     "task": false
    },
    "tags": []
   },
   "source": [
    "YOUR ANSWER HERE"
   ]
  },
  {
   "cell_type": "markdown",
   "id": "c895c699-1d6a-416b-9db8-3bd1cd025f7e",
   "metadata": {
    "deletable": false,
    "editable": false,
    "nbgrader": {
     "cell_type": "markdown",
     "checksum": "39795d1927784400726f59c2e84f664b",
     "grade": false,
     "grade_id": "merge-task",
     "locked": true,
     "points": 2,
     "schema_version": 3,
     "solution": false,
     "task": true
    },
    "tags": []
   },
   "source": [
    "**YOUR TASK:**\n",
    "\n",
    "  1. Merge the census tract `GeoDataFrame` with the median income `DataFrame`\n",
    "  2. Do all the census tracts have data? Eliminate any that do not."
   ]
  },
  {
   "cell_type": "code",
   "execution_count": null,
   "id": "b636aab3-4871-4d2e-bb6d-d761be8a134e",
   "metadata": {
    "deletable": false,
    "nbgrader": {
     "cell_type": "code",
     "checksum": "b2d3a2d7cf1c88a7339b2fcb1b35e9ea",
     "grade": false,
     "grade_id": "merge-ans",
     "locked": false,
     "schema_version": 3,
     "solution": true,
     "task": false
    },
    "tags": []
   },
   "outputs": [],
   "source": [
    "# YOUR CODE HERE\n",
    "raise NotImplementedError()"
   ]
  },
  {
   "cell_type": "markdown",
   "id": "d2b9ee63-645d-4023-ab95-104220495ee4",
   "metadata": {
    "deletable": false,
    "editable": false,
    "nbgrader": {
     "cell_type": "markdown",
     "checksum": "e64871f77c981420db19f81fdf68e775",
     "grade": false,
     "grade_id": "stac-task",
     "locked": true,
     "points": 1,
     "schema_version": 3,
     "solution": false,
     "task": true
    },
    "tags": []
   },
   "source": [
    "### Get NDVI statistics using STAC catalog\n",
    "\n",
    "NAIP data are freely available through the Microsoft Planetary Computer STAC. Get started by accessing the catalog with the following code:\n",
    "\n",
    "```python\n",
    "e84_catalog = pystac_client.Client.open(\n",
    "    \"https://planetarycomputer.microsoft.com/api/stac/v1\"\n",
    ")\n",
    "```"
   ]
  },
  {
   "cell_type": "code",
   "execution_count": null,
   "id": "ceb0a5ac-53cb-4283-a681-524aac8cb5b7",
   "metadata": {
    "deletable": false,
    "nbgrader": {
     "cell_type": "code",
     "checksum": "31e985282eb5a7a7a78a6b85844ad69f",
     "grade": false,
     "grade_id": "stac-ans",
     "locked": false,
     "schema_version": 3,
     "solution": true,
     "task": false
    },
    "tags": []
   },
   "outputs": [],
   "source": [
    "# YOUR CODE HERE\n",
    "raise NotImplementedError()"
   ]
  },
  {
   "cell_type": "markdown",
   "id": "2d1df667-83b0-41ae-b63a-1016dc000e31",
   "metadata": {
    "deletable": false,
    "editable": false,
    "nbgrader": {
     "cell_type": "markdown",
     "checksum": "63f6aee0791de00a004c5f9194cd46a9",
     "grade": false,
     "grade_id": "ndvi-url-task",
     "locked": true,
     "points": 15,
     "schema_version": 3,
     "solution": false,
     "task": true
    },
    "tags": []
   },
   "source": [
    "**YOUR TASK:**\n",
    "\n",
    "  1. Using a loop, for each Census Tract:\n",
    "  \n",
    "     1. Use the following sample code to search for data, replacing the names with applicable values with descriptive names:\n",
    "       \n",
    "        ```python\n",
    "        search = e84_catalog.search(\n",
    "            collections=[\"naip\"],\n",
    "            intersects=shapely.to_geojson(tract_geometry),\n",
    "            datetime=f\"{year}\"\n",
    "        )\n",
    "        ```\n",
    "      2. Access the url using `search.assets['image'].href`\n",
    "      \n",
    "  2. Accumulate the urls in a `pd.DataFrame` or `dict` for later\n",
    "  \n",
    "> NOTE: As always -- DO NOT try to write this loop all at once! Stick with one step at a time, making sure to test your work.\n",
    "\n",
    "> HINT: Occasionally you may find that the STAC service is momentarily unavailable. You may need to include code that will retry the request when you get that error."
   ]
  },
  {
   "cell_type": "code",
   "execution_count": null,
   "id": "8c857c6a-1621-4480-bca5-fb86e2b6c7e1",
   "metadata": {
    "deletable": false,
    "nbgrader": {
     "cell_type": "code",
     "checksum": "17b6130e94e29d9744a424f4488f109b",
     "grade": false,
     "grade_id": "ndvi-url-ans",
     "locked": false,
     "schema_version": 3,
     "solution": true,
     "task": false
    },
    "tags": []
   },
   "outputs": [],
   "source": [
    "# YOUR CODE HERE\n",
    "raise NotImplementedError()"
   ]
  },
  {
   "cell_type": "markdown",
   "id": "1fd206bc-0892-4b3e-ad1c-03e9b4cdddde",
   "metadata": {
    "deletable": false,
    "editable": false,
    "nbgrader": {
     "cell_type": "markdown",
     "checksum": "bb48fcebcb3dcbb9bbc8cfa341b09973",
     "grade": false,
     "grade_id": "pipeline-task",
     "locked": true,
     "points": 15,
     "schema_version": 3,
     "solution": false,
     "task": true
    },
    "tags": []
   },
   "source": [
    "**YOUR TASK:**\n",
    "\n",
    "  1. Using a loop, for each Census Tract:\n",
    "     1. Using a loop, for each data URL:\n",
    "  \n",
    "        1. Use `rioxarray` to open up a connection to the STAC asset, just like you would a file on your computer\n",
    "        2. Crop and then clip your data to the census tract boundary\n",
    "            > HINT: check out the `.clip_box` parameter `auto_expand` and the `clip` parameter `all_touched` to make sure you don't end up with an empty array\n",
    "        3. Compute NDVI for the tract\n",
    "        \n",
    "      2. Merge the NDVI rasters\n",
    "      3. Compute:\n",
    "         1. total number of pixels within the tract\n",
    "         2. fraction of pixels with an NDVI greater than .12 within the tract (and any other statistics you would like to look at)\n",
    "    \n",
    "      4. Accumulate the statistics in a text file or database for later\n",
    "\n",
    "  2. Using a condition, ensure that you do not run this computation if you have already saved values. You do not want to run this step many times, or have to restart from scratch!"
   ]
  },
  {
   "cell_type": "code",
   "execution_count": null,
   "id": "6ad4e5de-2588-4cd4-8970-0f02942706ad",
   "metadata": {
    "deletable": false,
    "nbgrader": {
     "cell_type": "code",
     "checksum": "70370247d696d325fd6d021b86421d66",
     "grade": false,
     "grade_id": "pipeline-ans",
     "locked": false,
     "schema_version": 3,
     "solution": true,
     "task": false
    },
    "tags": []
   },
   "outputs": [],
   "source": [
    "# YOUR CODE HERE\n",
    "raise NotImplementedError()"
   ]
  },
  {
   "cell_type": "markdown",
   "id": "45195b6c-36f4-4928-b421-bfb9fa771a21",
   "metadata": {
    "deletable": false,
    "editable": false,
    "nbgrader": {
     "cell_type": "markdown",
     "checksum": "93a3faab3e2c424ce39e94e907623248",
     "grade": false,
     "grade_id": "step-3",
     "locked": true,
     "schema_version": 3,
     "solution": false,
     "task": false
    },
    "tags": []
   },
   "source": [
    "## STEP 3 - Explore your data with plots"
   ]
  },
  {
   "cell_type": "markdown",
   "id": "631f916e-353e-4160-accf-4496c1177095",
   "metadata": {
    "deletable": false,
    "editable": false,
    "nbgrader": {
     "cell_type": "markdown",
     "checksum": "2c3760aa24d1319d268307387a1276f1",
     "grade": false,
     "grade_id": "chloropleth-task",
     "locked": true,
     "points": 5,
     "schema_version": 3,
     "solution": false,
     "task": true
    },
    "tags": []
   },
   "source": [
    "### Chloropleth plots\n",
    "\n",
    "Before running any statistical models on your data, you should check that your download worked. You should see differences in both median income and mean NDVI across the City.\n",
    "\n",
    "**Create a plot that:**\n",
    "  \n",
    "  * 2 side-by-side Chloropleth plots\n",
    "  * Median income on one and mean NDVI on the other\n",
    "  * Make sure to include a title and labeled color bars"
   ]
  },
  {
   "cell_type": "code",
   "execution_count": null,
   "id": "ea0af319-980f-4042-b2f7-880217b57b25",
   "metadata": {
    "deletable": false,
    "nbgrader": {
     "cell_type": "code",
     "checksum": "344a169db01c49e212579e8d32cc4775",
     "grade": false,
     "grade_id": "chloropleth-ans",
     "locked": false,
     "schema_version": 3,
     "solution": true,
     "task": false
    },
    "tags": []
   },
   "outputs": [],
   "source": [
    "# YOUR CODE HERE\n",
    "raise NotImplementedError()"
   ]
  },
  {
   "cell_type": "markdown",
   "id": "9ab0efd9-36dd-4b5f-95b9-7cbaedd8e356",
   "metadata": {
    "deletable": false,
    "nbgrader": {
     "cell_type": "markdown",
     "checksum": "275392ee8dd1d05a9655ddf402b00e04",
     "grade": true,
     "grade_id": "chloropleth-caption-ans",
     "locked": false,
     "points": 5,
     "schema_version": 3,
     "solution": true,
     "task": false
    },
    "tags": []
   },
   "source": [
    "YOUR ANSWER HERE"
   ]
  },
  {
   "cell_type": "markdown",
   "id": "8dcc5fa1-c937-4e98-b8fe-579ab3ca2fb6",
   "metadata": {
    "deletable": false,
    "editable": false,
    "nbgrader": {
     "cell_type": "markdown",
     "checksum": "3828a71dddedca029de4b3c481eb7239",
     "grade": false,
     "grade_id": "step-4",
     "locked": true,
     "schema_version": 3,
     "solution": false,
     "task": false
    },
    "tags": []
   },
   "source": [
    "## STEP 4: Explore a linear ordinary least-squares regression\n"
   ]
  },
  {
   "cell_type": "markdown",
   "id": "03740da3-0e11-4028-bfa2-78b59db50727",
   "metadata": {
    "deletable": false,
    "editable": false,
    "nbgrader": {
     "cell_type": "markdown",
     "checksum": "b5babb816a8bf6180f1aa9c0a5b26686",
     "grade": false,
     "grade_id": "model-description-task",
     "locked": true,
     "points": 5,
     "schema_version": 3,
     "solution": false,
     "task": true
    },
    "tags": []
   },
   "source": [
    "### Model description\n",
    "\n",
    "One way to find if there is a statistically significant relationship between the socioeconomic parameters from the U.S. Census and greenspace as measured by the fraction of pixels with an NDVI greater than .12 is to run a linear ordinary least squares (OLS) regression and measure how well it is able to predict greenspace given your chosen socioeconomic variables.\n",
    "\n",
    "Before fitting an OLS regression, you should check that your data are appropriate for the model. In the cell below, write a model description for the linear ordinary least-squares regression that touches on:\n",
    "\n",
    "  1. Assumptions made about the data\n",
    "  2. What is the objective of this model? What metrics could you use to evaluate the fit?\n",
    "  3. Advantages and potential problems with choosing this model."
   ]
  },
  {
   "cell_type": "markdown",
   "id": "ebe9ed2f-66c6-4076-8d29-bbbf6cdcf856",
   "metadata": {},
   "source": [
    "**ADD YOUR MODEL DESCRIPTION HERE**\n",
    "\n",
    "![](https://media.baamboozle.com/uploads/images/510741/1651543763_75056_gif-url.gif)"
   ]
  },
  {
   "cell_type": "markdown",
   "id": "a60b88e9-e34d-4305-9369-35094e4b8244",
   "metadata": {
    "deletable": false,
    "editable": false,
    "nbgrader": {
     "cell_type": "markdown",
     "checksum": "9ded341d7683791c155c224a0f96b229",
     "grade": false,
     "grade_id": "matrix-task",
     "locked": true,
     "points": 5,
     "schema_version": 3,
     "solution": false,
     "task": true
    },
    "tags": []
   },
   "source": [
    "### Data preparation\n",
    "\n",
    "When fitting statistical models, you should make sure that your data meet the model assumptions through a process of selection and/or transformation. For example, you can:\n",
    "  * Select by:\n",
    "      * Eliminating observations (rows) or variables (columns) that are missing data\n",
    "      * Selecting a model that matches the way in which variables are related to each other (for example, linear models are not good at modeling circles)\n",
    "      * Selecting variables that explain the largest amount of variability in the dependent variable.\n",
    "  * Transform by:\n",
    "      * Transforming a variable so that it follows a normal distribution. The `log` transform is the most common to eliminate excessive skew (e.g. make the data symmetrical), but you should select a transform most suited to your data.\n",
    "      * Normalizing or standardizing variables to, for example, eliminate negative numbers or effects caused by variables being in a different range.\n",
    "      * Performing a principle component analysis (PCA) to eliminate multicollinearity among the predictor variables\n",
    "  \n",
    "> NOTE: Keep in mind that data transforms like a log transform or a PCA must be reversed after modeling for the results to be meaningful.\n",
    "\n",
    "**YOUR TASK:**\n",
    "\n",
    "  1. Use the `hvplot.scatter_matrix()` function to create an exploratory plot of your data.\n",
    "  2. Make any necessary adjustments to your data to make sure that they meet the assumptions of a linear OLS regression.\n",
    "  3. Explain any data transformations or selections you made and why"
   ]
  },
  {
   "cell_type": "code",
   "execution_count": null,
   "id": "9b8e9c19-58e3-4cc4-b043-1a73a91c535f",
   "metadata": {
    "deletable": false,
    "nbgrader": {
     "cell_type": "code",
     "checksum": "33f8bea92a71d5e2dd4aa68dd5cc019b",
     "grade": false,
     "grade_id": "matrix-ans",
     "locked": false,
     "schema_version": 3,
     "solution": true,
     "task": false
    },
    "tags": []
   },
   "outputs": [],
   "source": [
    "# YOUR CODE HERE\n",
    "raise NotImplementedError()"
   ]
  },
  {
   "cell_type": "markdown",
   "id": "736b8937-c675-41a4-bfb4-05c63c3d9f2e",
   "metadata": {
    "deletable": false,
    "nbgrader": {
     "cell_type": "markdown",
     "checksum": "deaa112becf65fccf8fbcf2786575bf6",
     "grade": true,
     "grade_id": "transformation-ans",
     "locked": false,
     "points": 5,
     "schema_version": 3,
     "solution": true,
     "task": false
    },
    "tags": []
   },
   "source": [
    "YOUR ANSWER HERE"
   ]
  },
  {
   "cell_type": "markdown",
   "id": "455d8e35-9686-4b5e-88bd-29038b0df143",
   "metadata": {
    "deletable": false,
    "editable": false,
    "nbgrader": {
     "cell_type": "markdown",
     "checksum": "1ed6cac75bf5db8cfeff2f4a5e9acff0",
     "grade": false,
     "grade_id": "model-task",
     "locked": true,
     "points": 5,
     "schema_version": 3,
     "solution": false,
     "task": true
    },
    "tags": []
   },
   "source": [
    "### Fit and Predict\n",
    "\n",
    "If you have worked with statistical models before, you may notice that the `scikitlearn` library has a slightly different approach than many software packages. For example, `scikitlearn` emphasizes generic model performance measures like cross-validation and importance over coefficient p-values and correlation. The scikitlearn approach is meant to generalize more smoothly to machine learning (ML) models where the statistical significance is harder to derive mathematically.\n",
    "\n",
    "**YOUR TASK:**\n",
    "\n",
    "  1. Use the scikitlearn documentation and/or ChatGPT as a starting point, split your data into training and testing datasets.\n",
    "  2. Fit a linear regression to your training data.\n",
    "  3. Use your fitted model to predict the testing values.\n",
    "  4. Plot the predicted values against the measured values. You can use the following plotting code as a starting point:\n",
    "  \n",
    "```python\n",
    "(\n",
    "    test_df\n",
    "    .hvplot.scatter(x='measured', y='predicted')\n",
    "    .opts(aspect='equal', xlim=(0, y_max), ylim=(0, y_max), width=600, height=600)\n",
    ") * hv.Slope(slope=1, y_intercept=0).opts(color='black')\n",
    "```"
   ]
  },
  {
   "cell_type": "code",
   "execution_count": null,
   "id": "0df33b4b-88a2-4a6e-9da1-ca97896310e1",
   "metadata": {
    "deletable": false,
    "nbgrader": {
     "cell_type": "code",
     "checksum": "f29a17258469e897f140a8cb28d7f951",
     "grade": false,
     "grade_id": "model-ans",
     "locked": false,
     "schema_version": 3,
     "solution": true,
     "task": false
    },
    "tags": []
   },
   "outputs": [],
   "source": [
    "# YOUR CODE HERE\n",
    "raise NotImplementedError()"
   ]
  },
  {
   "cell_type": "markdown",
   "id": "c981da1d-bd4c-41fe-8603-7630ef4e1bb4",
   "metadata": {
    "deletable": false,
    "editable": false,
    "nbgrader": {
     "cell_type": "markdown",
     "checksum": "4938d95df5e15afc831770e2d811f7e9",
     "grade": false,
     "grade_id": "err-plot-task",
     "locked": true,
     "points": 5,
     "schema_version": 3,
     "solution": false,
     "task": true
    },
    "tags": []
   },
   "source": [
    "### Spatial bias\n",
    "\n",
    "We always need to think about bias, or systematic error, in model results. Every model is going to have some error, but we'd like to see that error evenly distributed. When the error is systematic, it can be an indication that we are missing something important in the model.\n",
    "\n",
    "In geographic data, it is common for location to be a factor that doesn't get incorporated into models. After all -- we generally expect places that are right next to each other to be more similar than places that are far away (this phenomenon is known as *spatial autocorrelation*). However, models like this linear regression don't take location into account at all.\n",
    "\n",
    "**YOUR TASK:**\n",
    "\n",
    "  1. Compute the model error (predicted - measured) for each census tract\n",
    "  2. Plot the error as a chloropleth map with a diverging color scheme\n",
    "  3. Looking at both of your error plots, what do you notice? What are some possible explanations for any bias you see in your model?"
   ]
  },
  {
   "cell_type": "code",
   "execution_count": null,
   "id": "cc0ef2c8-9701-4368-808b-23fa2e18a063",
   "metadata": {
    "deletable": false,
    "nbgrader": {
     "cell_type": "code",
     "checksum": "44348f55f22a32ff494a096dd0703c90",
     "grade": false,
     "grade_id": "err-plot-ans",
     "locked": false,
     "schema_version": 3,
     "solution": true,
     "task": false
    },
    "tags": []
   },
   "outputs": [],
   "source": [
    "# YOUR CODE HERE\n",
    "raise NotImplementedError()"
   ]
  },
  {
   "cell_type": "markdown",
   "id": "13db644a-13a8-427f-8f6b-ac7d846b9352",
   "metadata": {
    "deletable": false,
    "nbgrader": {
     "cell_type": "markdown",
     "checksum": "531ad23960dfa1ae2a81fe2699ce803b",
     "grade": true,
     "grade_id": "bias-ans",
     "locked": false,
     "points": 5,
     "schema_version": 3,
     "solution": true,
     "task": false
    },
    "tags": []
   },
   "source": [
    "YOUR ANSWER HERE"
   ]
  }
 ],
 "metadata": {
  "kernelspec": {
   "display_name": "Python 3 (ipykernel)",
   "language": "python",
   "name": "python3"
  },
  "language_info": {
   "codemirror_mode": {
    "name": "ipython",
    "version": 3
   },
   "file_extension": ".py",
   "mimetype": "text/x-python",
   "name": "python",
   "nbconvert_exporter": "python",
   "pygments_lexer": "ipython3",
   "version": "3.11.7"
  }
 },
 "nbformat": 4,
 "nbformat_minor": 5
}
